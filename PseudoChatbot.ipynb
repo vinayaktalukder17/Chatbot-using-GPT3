{
  "nbformat": 4,
  "nbformat_minor": 0,
  "metadata": {
    "colab": {
      "provenance": [],
      "authorship_tag": "ABX9TyMsglQvNSKfy/eW8DdKzg3N",
      "include_colab_link": true
    },
    "kernelspec": {
      "name": "python3",
      "display_name": "Python 3"
    },
    "language_info": {
      "name": "python"
    }
  },
  "cells": [
    {
      "cell_type": "markdown",
      "metadata": {
        "id": "view-in-github",
        "colab_type": "text"
      },
      "source": [
        "<a href=\"https://colab.research.google.com/github/vinayaktalukder17/Chatbot-using-GPT3/blob/main/PseudoChatbot.ipynb\" target=\"_parent\"><img src=\"https://colab.research.google.com/assets/colab-badge.svg\" alt=\"Open In Colab\"/></a>"
      ]
    },
    {
      "cell_type": "code",
      "execution_count": null,
      "metadata": {
        "id": "FN96HziyioRe"
      },
      "outputs": [],
      "source": [
        "!pip install openai\n",
        "!pip install gradio\n",
        "import os\n",
        "import openai\n",
        "import gradio as gr\n",
        "\n",
        "#if you have OpenAI API key as an environment variable, enable the below\n",
        "#openai.api_key = os.getenv(\"OPENAI_API_KEY\")\n",
        "\n",
        "#if you have OpenAI API key as a string, enable the below\n",
        "openai.api_key = \"XXXXX\"\n",
        "\n",
        "start_sequence = \"\\nAI:\"\n",
        "restart_sequence = \"\\nHuman: \"\n",
        "\n",
        "prompt = \"The following is a conversation with an AI assistant. The assistant is helpful, creative, clever, and very friendly.\\n\\nHuman: Hello, who are you?\\nAI: I am an AI created by OpenAI. How can I help you today?\\nHuman: \"\n",
        "\n",
        "def openai_create(prompt):\n",
        "\n",
        "    response = openai.Completion.create(\n",
        "    model=\"text-davinci-003\",\n",
        "    prompt=prompt,\n",
        "    temperature=0.9,\n",
        "    max_tokens=150,\n",
        "    top_p=1,\n",
        "    frequency_penalty=0,\n",
        "    presence_penalty=0.6,\n",
        "    stop=[\" Human:\", \" AI:\"]\n",
        "    )\n",
        "\n",
        "    return response.choices[0].text\n",
        "\n",
        "\n",
        "\n",
        "def chatgpt_clone(input, history):\n",
        "    history = history or []\n",
        "    s = list(sum(history, ()))\n",
        "    s.append(input)\n",
        "    inp = ' '.join(s)\n",
        "    output = openai_create(inp)\n",
        "    history.append((input, output))\n",
        "    return history, history\n",
        "\n",
        "\n",
        "block = gr.Blocks()\n",
        "\n",
        "\n",
        "with block:\n",
        "    gr.Markdown(\"\"\"<h1><center>Vinayak engine</center></h1>\n",
        "    \"\"\")\n",
        "    chatbot = gr.Chatbot()\n",
        "    message = gr.Textbox(placeholder=prompt)\n",
        "    state = gr.State()\n",
        "    submit = gr.Button(\"SEND\")\n",
        "    submit.click(chatgpt_clone, inputs=[message, state], outputs=[chatbot, state])\n",
        "\n",
        "block.launch(debug = True)"
      ]
    }
  ]
}